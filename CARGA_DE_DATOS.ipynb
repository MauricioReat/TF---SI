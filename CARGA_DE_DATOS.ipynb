{
  "nbformat": 4,
  "nbformat_minor": 0,
  "metadata": {
    "colab": {
      "private_outputs": true,
      "provenance": []
    },
    "kernelspec": {
      "name": "python3",
      "display_name": "Python 3"
    },
    "language_info": {
      "name": "python"
    }
  },
  "cells": [
    {
      "cell_type": "code",
      "execution_count": null,
      "metadata": {
        "id": "hwT2CZGAuZL5"
      },
      "outputs": [],
      "source": [
        "import pandas as pd\n",
        "import numpy as np\n",
        "import sklearn.metrics as sm\n",
        "import matplotlib.pyplot as plt\n",
        "from sklearn.cluster import KMeans\n",
        "from sklearn import datasets\n",
        "from google.colab import files\n",
        "from sklearn.metrics import silhouette_score, r2_score\n",
        "from sklearn.preprocessing import StandardScaler\n",
        "from matplotlib.colors import ListedColormap\n",
        "from sklearn import neighbors\n",
        "from sklearn.metrics import accuracy_score, precision_score, recall_score, f1_score\n",
        "from sklearn.decomposition import PCA\n",
        "from sklearn.metrics import accuracy_score, precision_score, recall_score, f1_score"
      ]
    },
    {
      "cell_type": "code",
      "source": [
        "#cargamos los datos\n",
        "data = files.upload()"
      ],
      "metadata": {
        "id": "J-Gekclk-nfg"
      },
      "execution_count": null,
      "outputs": []
    },
    {
      "cell_type": "code",
      "source": [
        "# Lee el archivo\n",
        "df = pd.read_excel(next(iter(data)))"
      ],
      "metadata": {
        "id": "TuPyDGYsAFsx"
      },
      "execution_count": null,
      "outputs": []
    },
    {
      "cell_type": "code",
      "source": [
        "df.columns"
      ],
      "metadata": {
        "id": "-2jsiK6DuxPE"
      },
      "execution_count": null,
      "outputs": []
    },
    {
      "cell_type": "code",
      "source": [
        "# Convierte los valores a numéricos, forzando los errores a NaN\n",
        "df['CANTIDAD_GALONES'] = pd.to_numeric(df['CANTIDAD_GALONES'], errors='coerce')\n",
        "df['PRECIO_UNIT'] = pd.to_numeric(df['PRECIO_UNIT'], errors='coerce')\n",
        "# Elimina filas con NaN\n",
        "df = df.dropna(subset=['CANTIDAD_GALONES', 'PRECIO_UNIT'])"
      ],
      "metadata": {
        "id": "B2tWr05V0Zcc"
      },
      "execution_count": null,
      "outputs": []
    },
    {
      "cell_type": "code",
      "source": [
        "columnas=['KILOMETRAJE', 'CANTIDAD_GALONES', 'PRECIO_UNIT']"
      ],
      "metadata": {
        "id": "VHIzrlkwxIZe"
      },
      "execution_count": null,
      "outputs": []
    },
    {
      "cell_type": "code",
      "source": [
        "datos = df[columnas]\n",
        "datos.head()"
      ],
      "metadata": {
        "id": "LN93ytMmxbQZ"
      },
      "execution_count": null,
      "outputs": []
    },
    {
      "cell_type": "code",
      "source": [
        "x=datos[['CANTIDAD_GALONES', 'PRECIO_UNIT']]\n",
        "y=datos['KILOMETRAJE']"
      ],
      "metadata": {
        "id": "l1rhFkwgyLVO"
      },
      "execution_count": null,
      "outputs": []
    },
    {
      "cell_type": "code",
      "source": [
        "x.head()"
      ],
      "metadata": {
        "id": "RDbQBnPJyczD"
      },
      "execution_count": null,
      "outputs": []
    },
    {
      "cell_type": "code",
      "source": [
        "y.head()"
      ],
      "metadata": {
        "id": "vw0pDgJOyhAM"
      },
      "execution_count": null,
      "outputs": []
    },
    {
      "cell_type": "code",
      "source": [
        "scaler = StandardScaler()\n",
        "X_scaled = scaler.fit_transform(x)"
      ],
      "metadata": {
        "id": "2nDXuvNR0CAy"
      },
      "execution_count": null,
      "outputs": []
    },
    {
      "cell_type": "code",
      "source": [
        "# Aplicar PCA\n",
        "pca = PCA(n_components=2)  # Reducir a 2 componentes principales para visualización\n",
        "X_pca = pca.fit_transform(X_scaled)"
      ],
      "metadata": {
        "id": "qSmbrPK31oo2"
      },
      "execution_count": null,
      "outputs": []
    },
    {
      "cell_type": "code",
      "source": [
        "model= KMeans(n_clusters=3)"
      ],
      "metadata": {
        "id": "JqxW98CRytv1"
      },
      "execution_count": null,
      "outputs": []
    },
    {
      "cell_type": "code",
      "source": [
        "model.fit(X_pca)"
      ],
      "metadata": {
        "id": "wmUlneoOy1Zk"
      },
      "execution_count": null,
      "outputs": []
    },
    {
      "cell_type": "code",
      "source": [
        "model.labels_"
      ],
      "metadata": {
        "id": "oM2g95r10_oE"
      },
      "execution_count": null,
      "outputs": []
    },
    {
      "cell_type": "code",
      "source": [
        "colormap=np.array(['Red','green','blue', 'purple', 'gray'])"
      ],
      "metadata": {
        "id": "NUPAUJwK1HBB"
      },
      "execution_count": null,
      "outputs": []
    },
    {
      "cell_type": "code",
      "source": [
        "#Visualisation des clusters\n",
        "plt.scatter(X_pca[:,0], X_pca[:,1],c=colormap[model.labels_],s=40)\n",
        "plt.title('Agrupación K-means ')"
      ],
      "metadata": {
        "id": "sfK5CIq61H77"
      },
      "execution_count": null,
      "outputs": []
    },
    {
      "cell_type": "code",
      "source": [
        "temp = y\n",
        "y = model.labels_"
      ],
      "metadata": {
        "id": "sYkXkvBi2HAb"
      },
      "execution_count": null,
      "outputs": []
    },
    {
      "cell_type": "code",
      "source": [
        "cmap_light = ListedColormap(['#FFAAAA', '#AAFFAA'])\n",
        "cmap_bold = ListedColormap(['#FF0000', '#00FF00'])"
      ],
      "metadata": {
        "id": "vzbdXq6j2M0e"
      },
      "execution_count": null,
      "outputs": []
    },
    {
      "cell_type": "code",
      "source": [
        "knn = neighbors.KNeighborsClassifier(n_neighbors=5)\n",
        "knn.fit(X_pca, y)"
      ],
      "metadata": {
        "id": "XaD3tcE92NqE"
      },
      "execution_count": null,
      "outputs": []
    },
    {
      "cell_type": "code",
      "source": [
        "x_min, x_max = X_pca[:, 0].min() - 1, X_pca[:, 0].max() + 1\n",
        "y_min, y_max = X_pca[:, 1].min() - 1, X_pca[:, 1].max() + 1\n",
        "xx, yy = np.meshgrid(np.linspace(x_min, x_max, 100), np.linspace(y_min, y_max, 100))"
      ],
      "metadata": {
        "id": "oDW2FboB2UKM"
      },
      "execution_count": null,
      "outputs": []
    },
    {
      "cell_type": "code",
      "source": [
        "Z = knn.predict(np.c_[xx.ravel(), yy.ravel()])\n",
        "Z = Z.reshape(xx.shape)"
      ],
      "metadata": {
        "id": "ZlXKBcGt2evg"
      },
      "execution_count": null,
      "outputs": []
    },
    {
      "cell_type": "code",
      "source": [
        "plt.figure()\n",
        "plt.pcolormesh(xx, yy, Z, cmap=cmap_light)\n",
        "plt.scatter(X_pca[:, 0], X_pca[:, 1], c=y, cmap=cmap_bold, edgecolor='k', s=20)\n",
        "plt.xlabel('CANTIDAD_GALONES')\n",
        "plt.ylabel('PRECIO_UNIT')\n",
        "plt.title('k-NN Classification (k=5)')\n",
        "plt.show()"
      ],
      "metadata": {
        "id": "QKPcqoSI2h0e"
      },
      "execution_count": null,
      "outputs": []
    },
    {
      "cell_type": "code",
      "source": [
        "# Calcular métricas de evaluación\n",
        "accuracy = accuracy_score(temp, model.labels_)\n",
        "precision = precision_score(temp, model.labels_, average='weighted')\n",
        "recall = recall_score(temp, model.labels_, average='weighted')\n",
        "f1 = f1_score(temp, model.labels_, average='weighted')\n",
        "\n",
        "print(f'Precisión: {accuracy:.2f}')\n",
        "print(f'Recall: {recall:.2f}')\n",
        "print(f'F1-score: {f1:.2f}')"
      ],
      "metadata": {
        "id": "4HTzbWIV20JF"
      },
      "execution_count": null,
      "outputs": []
    }
  ]
}